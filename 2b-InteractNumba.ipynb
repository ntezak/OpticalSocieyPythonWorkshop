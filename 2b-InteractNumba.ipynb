{
 "metadata": {
  "name": "",
  "signature": "sha256:5d1e69a69c15105171dc673eafef3efe15830e14c2e6df46aecc6aba13753a21"
 },
 "nbformat": 3,
 "nbformat_minor": 0,
 "worksheets": [
  {
   "cells": [
    {
     "cell_type": "markdown",
     "metadata": {},
     "source": [
      "# Quick and cheap interactivity via `interact`\n",
      "\n",
      "If you've used Mathematica's beautiful `Manipulate[]` command, you may have seen how powerful it can be to augment a visualization with little widgets that allow you to change the parameters!\n",
      "Here we will make use our previous mandelbrot plot as a nice example of this.\n"
     ]
    },
    {
     "cell_type": "code",
     "collapsed": false,
     "input": [
      "%pylab inline"
     ],
     "language": "python",
     "metadata": {},
     "outputs": []
    },
    {
     "cell_type": "code",
     "collapsed": false,
     "input": [
      "def mandel(x, y, max_iters):\n",
      "    \"\"\"\n",
      "    Given the real and imaginary parts of a complex number,\n",
      "    determine if it is a candidate for membership in the Mandelbrot\n",
      "    set given a fixed number of iterations.\n",
      "    \"\"\"\n",
      "    c = complex(x, y)\n",
      "    z = 0.0j\n",
      "    for i in range(max_iters):\n",
      "        z = z*z + c\n",
      "        if (z.real*z.real + z.imag*z.imag) >= 4:\n",
      "          return i\n",
      "\n",
      "    return max_iters\n",
      "\n",
      "def create_fractal(min_x, max_x, min_y, max_y, image, iters):\n",
      "    height = image.shape[0]\n",
      "    width = image.shape[1]\n",
      "\n",
      "    pixel_size_x = (max_x - min_x) / width\n",
      "    pixel_size_y = (max_y - min_y) / height\n",
      "\n",
      "    for x in range(width):\n",
      "        real = min_x + x * pixel_size_x\n",
      "        for y in range(height):\n",
      "            imag = min_y + y * pixel_size_y\n",
      "            color = mandel(real, imag, iters)\n",
      "            image[y, x] = color\n",
      "            \n",
      "    "
     ],
     "language": "python",
     "metadata": {},
     "outputs": []
    },
    {
     "cell_type": "code",
     "collapsed": false,
     "input": [
      "def plot_fractal(x_center=-0.5, y_center=0., xy_range=3., iters=20):\n",
      "    image = np.zeros((400,400), dtype=int)\n",
      "    create_fractal(x_center-xy_range/2., x_center+xy_range/2., y_center-xy_range/2.,y_center+xy_range/2., image, iters)\n",
      "    imshow(image, cmap=\"RdBu\")\n",
      "    gca().set_aspect(1.)"
     ],
     "language": "python",
     "metadata": {},
     "outputs": []
    },
    {
     "cell_type": "code",
     "collapsed": false,
     "input": [
      "plot_fractal()"
     ],
     "language": "python",
     "metadata": {},
     "outputs": []
    },
    {
     "cell_type": "code",
     "collapsed": false,
     "input": [
      "from IPython.html.widgets import interact\n",
      "\n",
      "interact(plot_fractal,\n",
      "         x_center=(-3.,3.), \n",
      "         y_center=(-3., 3.),\n",
      "         xy_range=(.1, 10., .1),\n",
      "         iters=(10,50,5))"
     ],
     "language": "python",
     "metadata": {},
     "outputs": []
    },
    {
     "cell_type": "code",
     "collapsed": false,
     "input": [
      "%timeit plot_fractal()"
     ],
     "language": "python",
     "metadata": {},
     "outputs": []
    },
    {
     "cell_type": "code",
     "collapsed": false,
     "input": [
      "%timeit create_fractal(-2, 1.0, -1.5, 1.5, image, 20)"
     ],
     "language": "python",
     "metadata": {},
     "outputs": []
    },
    {
     "cell_type": "markdown",
     "metadata": {},
     "source": [
      "# Numba to the rescue\n",
      "Most of the time to create our image is spent in the actual fractal computation routine. We will now see one way to speed that up."
     ]
    },
    {
     "cell_type": "code",
     "collapsed": false,
     "input": [
      "import numba"
     ],
     "language": "python",
     "metadata": {},
     "outputs": []
    },
    {
     "cell_type": "code",
     "collapsed": false,
     "input": [
      "if isinstance(mandel, type(plot_fractal)):\n",
      "    mandel = numba.autojit(mandel)\n",
      "if isinstance(create_fractal, type(plot_fractal)):    \n",
      "    create_fractal = numba.autojit(create_fractal)"
     ],
     "language": "python",
     "metadata": {},
     "outputs": []
    },
    {
     "cell_type": "code",
     "collapsed": false,
     "input": [
      "%timeit create_fractal(-2, 1.0, -1.5, 1.5, image, 100) "
     ],
     "language": "python",
     "metadata": {},
     "outputs": []
    },
    {
     "cell_type": "code",
     "collapsed": false,
     "input": [
      "from IPython.display import Image\n",
      "Image(\"blast_joker_after_nuclear_bomb_explosion.jpg\", width=400)"
     ],
     "language": "python",
     "metadata": {},
     "outputs": []
    },
    {
     "cell_type": "markdown",
     "metadata": {},
     "source": [
      "## What just happened?? That's a speedup of more than 100x!\n",
      "\n",
      "Well, our original fractal creation code was primarily slowed down by the inefficiency of python loops.\n",
      "This is because python is not a *statically typed* language, i.e., each variable's content types can change over time, making many compiler optimizations hard.\n",
      "The numba package will check your function arguments and then on-demand compile a version of the function specifically for those argument types. This is similar to (but a lot more limited than) the `multiple dispatch` framework of the new and awesome [Julia language](http://julialang.org). Numba and Julia are actually both built on the same [LLVM](http://llvm.org) architecture.\n",
      "\n",
      "## Will numba always make my code faster??\n",
      "\n",
      "No, of course not. Especially when you are already using numpy's/scipy's efficient vectorized functions. This is similar to MATLAB. But code with a lot of (nested) loops can almost always get such a performance increase.\n",
      "\n",
      "## What are disadvantages of Numba??\n",
      "\n",
      "Well, if you truly want control over what your code gets compiled as, i.e. memory allocation, etc., you will have to use C (with ctypes) or Cython and we will introduce to those methods next. But numba is still under heavy development and can be expected to become more and more applicable.\n",
      "\n",
      "[Read more about Numba here.](http://numba.pydata.org/)\n",
      "\n"
     ]
    },
    {
     "cell_type": "code",
     "collapsed": false,
     "input": [
      "interact(plot_fractal,\n",
      "         x_center=(-3.,3.), \n",
      "         y_center=(-3., 3.),\n",
      "         xy_range=(.1, 10., .1),\n",
      "         iters=(10,50,5))"
     ],
     "language": "python",
     "metadata": {},
     "outputs": []
    },
    {
     "cell_type": "code",
     "collapsed": false,
     "input": [
      "numba.__version__"
     ],
     "language": "python",
     "metadata": {},
     "outputs": []
    },
    {
     "cell_type": "code",
     "collapsed": false,
     "input": [],
     "language": "python",
     "metadata": {},
     "outputs": []
    }
   ],
   "metadata": {}
  }
 ]
}