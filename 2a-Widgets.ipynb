{
 "metadata": {
  "name": "",
  "signature": "sha256:f0c5ba2778f1ae6c66cf3a18ca4a0ed2b19d98dc6b12039e99f642bed33b8775"
 },
 "nbformat": 3,
 "nbformat_minor": 0,
 "worksheets": [
  {
   "cells": [
    {
     "cell_type": "markdown",
     "metadata": {},
     "source": [
      "This notebook will show how to add interactivity to your code and create little GUIs.\n",
      "We will do one simple case study that will introduce you to the most important things."
     ]
    },
    {
     "cell_type": "code",
     "collapsed": false,
     "input": [
      "import pandas as pd\n",
      "from IPython.display import display\n",
      "from IPython.html.widgets import TextWidget, TextareaWidget, ButtonWidget, FloatSliderWidget, IntSliderWidget, ContainerWidget, HTMLWidget, ImageWidget"
     ],
     "language": "python",
     "metadata": {},
     "outputs": []
    },
    {
     "cell_type": "code",
     "collapsed": false,
     "input": [
      "from cStringIO import StringIO"
     ],
     "language": "python",
     "metadata": {},
     "outputs": []
    },
    {
     "cell_type": "code",
     "collapsed": false,
     "input": [
      "import matplotlib\n",
      "# we need to use a special backend to be able to render our plots \n",
      "# to png without displaying them directly\n",
      "matplotlib.use(\"WebAgg\")\n",
      "import matplotlib.pyplot as plt\n",
      "\n",
      "# make the outer background of figures white\n",
      "matplotlib.rcParams[\"figure.facecolor\"]=\"white\"\n",
      "\n",
      "# use nicer plotting options for pandas\n",
      "pd.options.display.mpl_style = 'default' "
     ],
     "language": "python",
     "metadata": {},
     "outputs": []
    },
    {
     "cell_type": "markdown",
     "metadata": {},
     "source": [
      "This is a simple text input. To get a multi-line input field, use the `TextareaWidget`."
     ]
    },
    {
     "cell_type": "code",
     "collapsed": false,
     "input": [
      "name = TextWidget(description=\"Name\")\n",
      "name"
     ],
     "language": "python",
     "metadata": {},
     "outputs": []
    },
    {
     "cell_type": "markdown",
     "metadata": {},
     "source": [
      "This is a slider for integer values. You can specify the permissible min and max as well as the increment (step). You can also find text inputs that only accept integer input."
     ]
    },
    {
     "cell_type": "code",
     "collapsed": false,
     "input": [
      "age = IntSliderWidget(description=\"Age\", min=18, max=100, step=1, value=18)\n",
      "\n",
      "age"
     ],
     "language": "python",
     "metadata": {},
     "outputs": []
    },
    {
     "cell_type": "markdown",
     "metadata": {},
     "source": [
      "This is a simple button input. You can easily bind actions to its \"click\" event."
     ]
    },
    {
     "cell_type": "code",
     "collapsed": false,
     "input": [
      "button = ButtonWidget(description=\"Update\")\n",
      "button"
     ],
     "language": "python",
     "metadata": {},
     "outputs": []
    },
    {
     "cell_type": "markdown",
     "metadata": {},
     "source": [
      "We will make the size of the image within the widget adjustable."
     ]
    },
    {
     "cell_type": "code",
     "collapsed": false,
     "input": [
      "image_size = FloatSliderWidget(description=\"Scale\", min=.5, max=1.5, step=.1, value=1.)\n",
      "image_size"
     ],
     "language": "python",
     "metadata": {},
     "outputs": []
    },
    {
     "cell_type": "markdown",
     "metadata": {},
     "source": [
      "Without going into too much detail about `pandas` we will use a simple DataFrame object here which should really just be thought of as a table with named columns and indexed rows and with mixed data."
     ]
    },
    {
     "cell_type": "code",
     "collapsed": false,
     "input": [
      "entries = pd.DataFrame(columns=[\"Name\", \"Age\"])\n",
      "entries_view = HTMLWidget(value=\"No data yet\")"
     ],
     "language": "python",
     "metadata": {},
     "outputs": []
    },
    {
     "cell_type": "markdown",
     "metadata": {},
     "source": [
      "This widget just stores a PNG image that can be updated dynamically"
     ]
    },
    {
     "cell_type": "code",
     "collapsed": false,
     "input": [
      "pheight = 600\n",
      "pwidth = 800\n",
      "plot_view = ImageWidget(width=pwidth, height=pheight)"
     ],
     "language": "python",
     "metadata": {},
     "outputs": []
    },
    {
     "cell_type": "code",
     "collapsed": false,
     "input": [
      "\n",
      "def add_to_frame(*args):\n",
      "    \"\"\"\n",
      "    Button click callback to add a new form entry to the table and update the histogram.\n",
      "    \"\"\"\n",
      "    \n",
      "    # this inserts a new entry into at the end of our table\n",
      "    entries.loc[len(entries)] = [name.value, age.value]\n",
      "    \n",
      "    # this renders the table to html while limiting output to 10 rows.\n",
      "    entries_view.value = entries.to_html(max_rows=10)\n",
      "    \n",
      "    # clear the figure\n",
      "    plt.clf()\n",
      "    \n",
      "    # if no entries, don't try to plot\n",
      "    if len(entries):\n",
      "        # plot a histogram of the \"Age\" column of our table\n",
      "        p = entries.Age.plot(kind=\"hist\", title=\"Age histogram\")\n",
      "        \n",
      "        # Create a binary string buffer to store the png image of our plot\n",
      "        sio = StringIO()\n",
      "\n",
      "        # Render the plot to a png image and store it\n",
      "        p.figure.canvas.print_png(sio, dpi=pwidth/4, width=str(4*image_size.value)+\"px\", height=str(3*image_size.value)+\"px\")\n",
      "        \n",
      "        # Update the image widget's value\n",
      "        plot_view.value = sio.getvalue()\n",
      "    \n",
      "# register our event handler\n",
      "button.on_click(add_to_frame)"
     ],
     "language": "python",
     "metadata": {},
     "outputs": []
    },
    {
     "cell_type": "code",
     "collapsed": false,
     "input": [
      "def adapt_image_size(oldval, newval):\n",
      "    \"\"\"\n",
      "    Update the width and height properties of our image widget according to the slider scale factor.\n",
      "    \"\"\"\n",
      "    plot_view.width = pwidth * newval\n",
      "    plot_view.height = pheight * newval\n",
      "\n",
      "# Register event handler on image_size slider\n",
      "image_size.on_trait_change(adapt_image_size, name=\"value\")"
     ],
     "language": "python",
     "metadata": {},
     "outputs": []
    },
    {
     "cell_type": "markdown",
     "metadata": {},
     "source": [
      "We can then combine all widgets into a single gui by using nested `ContainerWidget` instances. Each one of these can be configured for horizontal or vertical alignment (depending on their CSS-class being `hbox` or `vbox` (default))."
     ]
    },
    {
     "cell_type": "code",
     "collapsed": false,
     "input": [
      "# Combine all widgets with containers\n",
      "title = HTMLWidget(value=\"<h2>Survey</h2>\")\n",
      "vbox1 = ContainerWidget(children=[name, age, image_size])\n",
      "hbox1 = ContainerWidget(children=[vbox1, button,])\n",
      "hbox2 = ContainerWidget(children=[entries_view, plot_view])\n",
      "container = ContainerWidget(children=[title, hbox1, hbox2])\n",
      "display(container)\n",
      "\n",
      "# everything below here is just for styling the widget\n",
      "# overall vertical layout\n",
      "hbox1.remove_class(\"vbox\")\n",
      "hbox1.add_class(\"hbox\")\n",
      "hbox2.remove_class(\"vbox\")\n",
      "hbox2.add_class(\"hbox\")\n",
      "title.set_css({\"color\": \"#0077AA\"})\n",
      "entries_view.set_css({\"width\": 200, \"transform\": \"translate(0,40px)\"}, selector=\"table\")\n",
      "entries_view.set_css({\"border\":\"none\"}, selector=\"table\")\n",
      "entries_view.set_css({\"text-align\": \"center\", \"padding\":\"2px\", \"border\": \"dashed #0077AA 1px\"}, selector=\"td\")\n",
      "entries_view.set_css({\"text-align\": \"center\", \"padding\":\"2px\",  \"border\": \"none\", \"color\": \"#0077AA\"}, selector=\"th\")\n",
      "\n"
     ],
     "language": "python",
     "metadata": {},
     "outputs": []
    },
    {
     "cell_type": "markdown",
     "metadata": {},
     "source": [
      "#### Exercises:\n",
      "\n",
      "1. Add additional code and a button that will allow you to save the current table to disk  \n",
      "2. Add code to check whether a previous table was saved to disk and load it automatically\n",
      "3. Add button to clear all entries from the table\n",
      "4. Add button to save the histogram to disk"
     ]
    },
    {
     "cell_type": "code",
     "collapsed": false,
     "input": [],
     "language": "python",
     "metadata": {},
     "outputs": []
    },
    {
     "cell_type": "markdown",
     "metadata": {},
     "source": [
      "More cool widget examples can be downloaded here:\n",
      "https://github.com/ipython/ipython/tree/master/examples/Interactive%20Widgets\n",
      "\n"
     ]
    },
    {
     "cell_type": "code",
     "collapsed": false,
     "input": [
      "pd.__version__"
     ],
     "language": "python",
     "metadata": {},
     "outputs": []
    },
    {
     "cell_type": "code",
     "collapsed": false,
     "input": [],
     "language": "python",
     "metadata": {},
     "outputs": []
    }
   ],
   "metadata": {}
  }
 ]
}