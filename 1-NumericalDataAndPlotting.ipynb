{
 "metadata": {
  "name": "",
  "signature": "sha256:0031171528212b98ebdc33a983affd8d31a82cf5a6a6373a518fc4b8a3f13c53"
 },
 "nbformat": 3,
 "nbformat_minor": 0,
 "worksheets": [
  {
   "cells": [
    {
     "cell_type": "markdown",
     "metadata": {},
     "source": [
      "# Replacing most of what you use MATLAB for"
     ]
    },
    {
     "cell_type": "heading",
     "level": 3,
     "metadata": {},
     "source": [
      "You can load all common numerical functionality into the workspace AND specify that plots should be inside the notebook in a single magic command"
     ]
    },
    {
     "cell_type": "code",
     "collapsed": false,
     "input": [
      "%pylab inline"
     ],
     "language": "python",
     "metadata": {},
     "outputs": []
    },
    {
     "cell_type": "heading",
     "level": 3,
     "metadata": {},
     "source": [
      "Vector-arithmetic: Python lists versus NumPy arrays"
     ]
    },
    {
     "cell_type": "code",
     "collapsed": false,
     "input": [
      "a = [1, 2, 3]\n",
      "b = array([1,2,3])"
     ],
     "language": "python",
     "metadata": {},
     "outputs": []
    },
    {
     "cell_type": "code",
     "collapsed": false,
     "input": [
      "2*a"
     ],
     "language": "python",
     "metadata": {},
     "outputs": []
    },
    {
     "cell_type": "code",
     "collapsed": false,
     "input": [
      "2*b"
     ],
     "language": "python",
     "metadata": {},
     "outputs": []
    },
    {
     "cell_type": "code",
     "collapsed": false,
     "input": [
      "a+a"
     ],
     "language": "python",
     "metadata": {},
     "outputs": []
    },
    {
     "cell_type": "code",
     "collapsed": false,
     "input": [
      "b+b"
     ],
     "language": "python",
     "metadata": {},
     "outputs": []
    },
    {
     "cell_type": "heading",
     "level": 3,
     "metadata": {},
     "source": [
      "Multidimensional arrays"
     ]
    },
    {
     "cell_type": "code",
     "collapsed": false,
     "input": [
      "S = randn(2,2,2)\n",
      "S"
     ],
     "language": "python",
     "metadata": {},
     "outputs": []
    },
    {
     "cell_type": "code",
     "collapsed": false,
     "input": [
      "S.shape"
     ],
     "language": "python",
     "metadata": {},
     "outputs": []
    },
    {
     "cell_type": "code",
     "collapsed": false,
     "input": [
      "S[:,0]"
     ],
     "language": "python",
     "metadata": {},
     "outputs": []
    },
    {
     "cell_type": "code",
     "collapsed": false,
     "input": [
      "S[0,:]"
     ],
     "language": "python",
     "metadata": {},
     "outputs": []
    },
    {
     "cell_type": "heading",
     "level": 3,
     "metadata": {},
     "source": [
      "Numpy and SciPy come replace the normal python math functions with vectorized ones (like MATLAB has)"
     ]
    },
    {
     "cell_type": "code",
     "collapsed": false,
     "input": [
      "sqrt(abs(S)), cos(S)"
     ],
     "language": "python",
     "metadata": {},
     "outputs": []
    },
    {
     "cell_type": "code",
     "collapsed": false,
     "input": [
      "# get a flattened view of the data in S\n",
      "ravel(S)"
     ],
     "language": "python",
     "metadata": {},
     "outputs": []
    },
    {
     "cell_type": "code",
     "collapsed": false,
     "input": [
      "# It still points to the same memory, though...\n",
      "ravel(S)[0] = 10\n",
      "# ... as we can see here\n",
      "S"
     ],
     "language": "python",
     "metadata": {},
     "outputs": []
    },
    {
     "cell_type": "heading",
     "level": 3,
     "metadata": {},
     "source": [
      "Important difference to MATLAB: Matrix-multiplication"
     ]
    },
    {
     "cell_type": "code",
     "collapsed": false,
     "input": [
      "a = array([[1,2],[3,4]])\n",
      "b = array([[1,0],[0,1]])\n",
      "print(\"a:\")\n",
      "print(a)\n",
      "print(\"b:\")\n",
      "print(b)"
     ],
     "language": "python",
     "metadata": {},
     "outputs": []
    },
    {
     "cell_type": "code",
     "collapsed": false,
     "input": [
      "#matrix product\n",
      "a.dot(b)\n",
      "# in python 3, you can use   a @ b   instead"
     ],
     "language": "python",
     "metadata": {},
     "outputs": []
    },
    {
     "cell_type": "code",
     "collapsed": false,
     "input": [
      "a * b # like matlab's a .* b"
     ],
     "language": "python",
     "metadata": {},
     "outputs": []
    },
    {
     "cell_type": "code",
     "collapsed": false,
     "input": [
      "# as in MATLAB you can create element selection masks with boolean arrays\n",
      "b[b==0] = -1\n",
      "b"
     ],
     "language": "python",
     "metadata": {},
     "outputs": []
    },
    {
     "cell_type": "heading",
     "level": 2,
     "metadata": {},
     "source": [
      "Saving data to and loading data from files"
     ]
    },
    {
     "cell_type": "code",
     "collapsed": false,
     "input": [
      "fname = \"my_data.txt\"\n",
      "ts = linspace(0, 10, 201)\n",
      "x = cos(ts) + .1*randn(201)\n",
      "y = sin(ts) + .1*randn(201)\n",
      "data = vstack([ts, x,y]).T\n",
      "savetxt(fname, data)"
     ],
     "language": "python",
     "metadata": {},
     "outputs": []
    },
    {
     "cell_type": "code",
     "collapsed": false,
     "input": [
      "from IPython.display import FileLink\n",
      "FileLink(fname)"
     ],
     "language": "python",
     "metadata": {},
     "outputs": []
    },
    {
     "cell_type": "code",
     "collapsed": false,
     "input": [
      "data2 = loadtxt(fname)\n",
      "allclose(data, data2)"
     ],
     "language": "python",
     "metadata": {},
     "outputs": []
    },
    {
     "cell_type": "heading",
     "level": 2,
     "metadata": {},
     "source": [
      "Linear algebra example"
     ]
    },
    {
     "cell_type": "markdown",
     "metadata": {},
     "source": [
      "#### Exercise diagonalization\n",
      "Use this page ([SciPy/MATLAB comparison](http://wiki.scipy.org/NumPy_for_Matlab_Users)) to find out how to diagonalize (and invert) a matrix  and write code that computes the eigendecomposition of a random matrix $Q$ (see code cell) and explicitly verifies that\n",
      "$$\n",
      "Q = V {\\rm diag} (\\lambda_1, \\dots, \\lambda_n) V^{-1}\n",
      "$$\n",
      "Where $V$ is a matrix with $Q$'s eigenvectors as columns.\n",
      "\n",
      "When comparing two floating point matrices it is convenient to use numpy's `allclose` function. Also the tricks above for displaying function documentation will come in handy."
     ]
    },
    {
     "cell_type": "code",
     "collapsed": false,
     "input": [
      "Q = randn(10,10)"
     ],
     "language": "python",
     "metadata": {},
     "outputs": []
    },
    {
     "cell_type": "code",
     "collapsed": false,
     "input": [
      "# my solution\n",
      "lam, V = eig(Q)\n",
      "allclose(V.dot(diag(lam)).dot(inv(V)), Q)"
     ],
     "language": "python",
     "metadata": {},
     "outputs": []
    },
    {
     "cell_type": "markdown",
     "metadata": {},
     "source": [
      "If you are keeping track of large tables of time-series and generally mixed data, you should check out [pandas](http://pandas.pydata.org/)! Especially if you already know R.\n",
      "Also, if you are doing any sort of machine learning type work, you should check out the [scikit-learn package](http://scikit-learn.org/stable/)."
     ]
    },
    {
     "cell_type": "heading",
     "level": 2,
     "metadata": {},
     "source": [
      "Plotting"
     ]
    },
    {
     "cell_type": "code",
     "collapsed": false,
     "input": [
      "figure(figsize=(6,3))\n",
      "plot(data[:,0], data[:,2], label=r\"$x$\", color=(.7,.0,.1))\n",
      "plot(data[:,0], data[:,1], label=r\"$\\dot x$\", color=(.0,.1, .7))\n",
      "xlabel(r\"Time $t/[\\mu {\\rm s}]$\")\n",
      "ylabel(r\"Measured $x(t),\\, \\dot x(t)$\")\n",
      "title(\"Harmonic Oscillator Trajectory\")\n",
      "grid()\n",
      "legend()"
     ],
     "language": "python",
     "metadata": {},
     "outputs": []
    },
    {
     "cell_type": "markdown",
     "metadata": {},
     "source": [
      "Mandelbrot set (taken from http://nbviewer.ipython.org/gist/harrism/f5707335f40af9463c43)"
     ]
    },
    {
     "cell_type": "code",
     "collapsed": false,
     "input": [
      "def mandel(x, y, max_iters):\n",
      "    \"\"\"\n",
      "    Given the real and imaginary parts of a complex number,\n",
      "    determine if it is a candidate for membership in the Mandelbrot\n",
      "    set given a fixed number of iterations.\n",
      "    \"\"\"\n",
      "    c = complex(x, y)\n",
      "    z = 0.0j\n",
      "    for i in range(max_iters):\n",
      "        z = z*z + c\n",
      "        if (z.real*z.real + z.imag*z.imag) >= 4:\n",
      "          return i\n",
      "\n",
      "    return max_iters\n",
      "\n",
      "def create_fractal(min_x, max_x, min_y, max_y, image, iters):\n",
      "    height = image.shape[0]\n",
      "    width = image.shape[1]\n",
      "\n",
      "    pixel_size_x = (max_x - min_x) / width\n",
      "    pixel_size_y = (max_y - min_y) / height\n",
      "\n",
      "    for x in range(width):\n",
      "        real = min_x + x * pixel_size_x\n",
      "        for y in range(height):\n",
      "            imag = min_y + y * pixel_size_y\n",
      "            color = mandel(real, imag, iters)\n",
      "            image[y, x] = color"
     ],
     "language": "python",
     "metadata": {},
     "outputs": []
    },
    {
     "cell_type": "code",
     "collapsed": false,
     "input": [
      "from timeit import default_timer as timer\n",
      "image = np.zeros((300, 400), dtype = np.uint8)\n",
      "start = timer()\n",
      "create_fractal(-2.0, 1.0, -1.0, 1.0, image, 20) \n",
      "dt = timer() - start\n",
      "print(\"Mandelbrot created in %f s\" % dt)\n",
      "figure(figsize=(4,3))\n",
      "imshow(image, cmap=\"RdBu\")\n",
      "dt = timer() - start\n",
      "print(\"Plot created in %f s\" % dt)\n",
      "show()"
     ],
     "language": "python",
     "metadata": {},
     "outputs": []
    },
    {
     "cell_type": "markdown",
     "metadata": {},
     "source": [
      "Many more plotting examples here:  \n",
      "- http://matplotlib.org/gallery.html\n",
      "- http://nbviewer.ipython.org/github/jrjohansson/scientific-python-lectures/blob/master/Lecture-4-Matplotlib.ipynb\n",
      "\n",
      "Also check out the [seaborn](http://stanford.edu/~mwaskom/software/seaborn/) package for beautiful Statistics visualizations.\n",
      "Two other very interesting plotting backends in the IPython notebook are:\n",
      "- [Bokeh](http://bokeh.pydata.org/en/latest/)\n",
      "- [Plot.ly](https://plot.ly/python/)  \n",
      "\n",
      "\n",
      "These actually create interactive widgets that allow you to modify the plot after it has been created."
     ]
    },
    {
     "cell_type": "code",
     "collapsed": false,
     "input": [],
     "language": "python",
     "metadata": {},
     "outputs": []
    }
   ],
   "metadata": {}
  }
 ]
}