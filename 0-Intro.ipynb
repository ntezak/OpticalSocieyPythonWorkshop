{
 "metadata": {
  "name": "",
  "signature": "sha256:80f16aee33a377b9c46a06a10ec154d23f6e828b3b8cca51292345d0d1cbce42"
 },
 "nbformat": 3,
 "nbformat_minor": 0,
 "worksheets": [
  {
   "cells": [
    {
     "cell_type": "markdown",
     "metadata": {},
     "source": [
      "# What to expect from this tutorial:\n",
      "\n",
      "1. Inspiration to update your computational toolkit/skillset to be most productive  \n",
      "2. Seeing some extremely useful tools for scientific coding in action  \n",
      "3. Solving some simple exercises in pairs to gain familiarity  \n",
      "4. Directions to many further learning resources   \n",
      "5. Excitement over how awesome some of these tools are :)  \n",
      "\n",
      "Some tools we will introduce to you: \n",
      "   - The [IPython](https://ipython.org) notebook  \n",
      "   - [SciPy+NumPy](https://scipy.org) for data crunching  \n",
      "   - [Matplotlib](http://matplotlib.org/) for visualization  \n",
      "   - [IPython notebook widgets](https://github.com/ipython/ipython/tree/master/examples/Interactive%20Widgets) for making small GUI applets  \n",
      "   - The Python ctypes module for direct interface with C-libraries  \n",
      "   - The [Cython module](http://cython.org) for writing efficient numerical code  \n",
      "   \n",
      "At the end of the class we will give you a list of other tools you might find useful.\n",
      "An awesome resource is [Robert Johansson's](http://jrjohansson.github.io/) repository. Specifically his [lectures on scientific python](https://github.com/jrjohansson/scientific-python-lectures)."
     ]
    },
    {
     "cell_type": "markdown",
     "metadata": {},
     "source": [
      "# The IPython notebook\n",
      "\n",
      "1. Everything is divided into cells.  \n",
      "2. Cells can contain code or text (including math: $\\LaTeX$)  \n",
      "3. Like in the popular VIM editor, there are two `modes` for using the notebook: `command mode` and `edit mode`:\n",
      "   - Command mode is for high-level operations\n",
      "   - Edit mode is to change the content of a single cell  \n",
      "4. To find out what you can do in either mode, do the User Interface Tour (under Help) and bring up the shortcuts (also under Help)\n",
      "\n",
      "#### Exercise: Do the user interface tour and read the list of shortcuts\n",
      "\n",
      "Our first code cell, execute it by pressing SHIFT-RETURN:"
     ]
    },
    {
     "cell_type": "code",
     "collapsed": false,
     "input": [
      "print(\"Hello world\")"
     ],
     "language": "python",
     "metadata": {},
     "outputs": []
    },
    {
     "cell_type": "heading",
     "level": 2,
     "metadata": {},
     "source": [
      "Markdown for notes"
     ]
    },
    {
     "cell_type": "markdown",
     "metadata": {},
     "source": [
      "Markdown is a useful very light markup language that supports different font sizes and weights, hyperlinks, embedded code and math and images. [Find out more here](http://daringfireball.net/projects/markdown/syntax).  \n",
      "\n",
      "#### Exercise: Write your own markdown cell: \n",
      "Insert a cell below this, set its content to markdown mode and write some math, e.g.\n",
      "$$\n",
      "\\exp(x) = 1 + x + \\frac{x^2}{2!} + \\frac{x^3}{3!} + \\dots\n",
      "$$\n",
      "\n",
      "You can write inline math too: This $\\exp(x)$ will appear inline."
     ]
    },
    {
     "cell_type": "markdown",
     "metadata": {},
     "source": [
      "## Documentation\n",
      "Let's see how to both **write and access** python documentation.\n",
      "As an example (and to also introduce python syntax at the same time) consider a function that computes an estimate of the sample mean and standard deviation for some numerical data.\n",
      "We can write a doc-string by simply making the first statement inside the function body describe the function behavior. Triple quotation marks allow line breaks inside strings"
     ]
    },
    {
     "cell_type": "code",
     "collapsed": false,
     "input": [
      "# import statement that only selects a single function from the math module\n",
      "from math import sqrt\n",
      "\n",
      "def mean_stdev(data):\n",
      "    \"\"\"\n",
      "    Compute and return a tuple (mean, stdev) containing the mean and standard deviation of the iterable data.\n",
      "    \"\"\"\n",
      "    # used to store running sum of elements\n",
      "    m = 0.\n",
      "    # used to store running sum of element squares\n",
      "    q = 0.\n",
      "    \n",
      "    for d in data:\n",
      "        m += d\n",
      "        q += d**2\n",
      "        \n",
      "    m = m / len(data)\n",
      "    q = q / len(data)\n",
      "    \n",
      "    \n",
      "    assert q >= m**2, \"This should never happen\"\n",
      "    \n",
      "    s = sqrt(q - m**2)\n",
      "        \n",
      "    return m, s"
     ],
     "language": "python",
     "metadata": {},
     "outputs": []
    },
    {
     "cell_type": "code",
     "collapsed": false,
     "input": [
      "# test if it works\n",
      "mean_stdev([1,2,3,4,2,3,5,6,2,7,8,9,4,6,8,9,3,4,5,6,7,8,3,6,7,6,4,3,1,2,3,1,5,1,3,1,5,15,6,1,3])"
     ],
     "language": "python",
     "metadata": {},
     "outputs": []
    },
    {
     "cell_type": "heading",
     "level": 4,
     "metadata": {},
     "source": [
      "To get the documentation for our function, you can most easily type its name (try tab-completion below), an opening brace, and then hit SHIFT-ENTER"
     ]
    },
    {
     "cell_type": "code",
     "collapsed": false,
     "input": [
      "# place cursor behind this and try TAB-completion. Then enter opening brace \"(\" and type SHIFT-ENTER\n",
      "mean_st"
     ],
     "language": "python",
     "metadata": {},
     "outputs": []
    },
    {
     "cell_type": "heading",
     "level": 4,
     "metadata": {},
     "source": [
      "We can also access the documentation in a separate area of the notebook, execute the cell below"
     ]
    },
    {
     "cell_type": "code",
     "collapsed": false,
     "input": [
      "mean_stdev?"
     ],
     "language": "python",
     "metadata": {},
     "outputs": []
    },
    {
     "cell_type": "heading",
     "level": 4,
     "metadata": {},
     "source": [
      "And we can even inspect the source code by doing this"
     ]
    },
    {
     "cell_type": "code",
     "collapsed": false,
     "input": [
      "mean_stdev??"
     ],
     "language": "python",
     "metadata": {},
     "outputs": []
    },
    {
     "cell_type": "heading",
     "level": 2,
     "metadata": {},
     "source": [
      "Shell scripting and useful magic functions"
     ]
    },
    {
     "cell_type": "code",
     "collapsed": false,
     "input": [
      "# precede your command by an exclamation mark\n",
      "!ls"
     ],
     "language": "python",
     "metadata": {},
     "outputs": []
    },
    {
     "cell_type": "code",
     "collapsed": false,
     "input": [
      "# shell command pipes work as usual\n",
      "!ls -lt / | head -n 3"
     ],
     "language": "python",
     "metadata": {},
     "outputs": []
    },
    {
     "cell_type": "code",
     "collapsed": false,
     "input": [
      "# you can store the returned values from a shell command line by line in a list\n",
      "files = !ls -lt / \n",
      "files[1:3]"
     ],
     "language": "python",
     "metadata": {},
     "outputs": []
    },
    {
     "cell_type": "heading",
     "level": 4,
     "metadata": {},
     "source": [
      "Exercise: Show the first 5 lines of this file. Hint: the linux `'head -n <N> <filename>'` command will show you the first `<N>` lines of `<filename>`."
     ]
    },
    {
     "cell_type": "code",
     "collapsed": false,
     "input": [],
     "language": "python",
     "metadata": {},
     "outputs": []
    },
    {
     "cell_type": "heading",
     "level": 3,
     "metadata": {},
     "source": [
      "There are tons of useful python 'magic' commands, some are loaded by default such as for timing code"
     ]
    },
    {
     "cell_type": "code",
     "collapsed": false,
     "input": [
      "%timeit map(sqrt, range(10, 100))"
     ],
     "language": "python",
     "metadata": {},
     "outputs": []
    },
    {
     "cell_type": "heading",
     "level": 3,
     "metadata": {},
     "source": [
      "You can also time how long a whole cell takes"
     ]
    },
    {
     "cell_type": "code",
     "collapsed": false,
     "input": [
      "%%time \n",
      "\n",
      "from time import sleep\n",
      "print(\"Yes\")\n",
      "sleep(2.)\n",
      "print(\"Done!\")"
     ],
     "language": "python",
     "metadata": {},
     "outputs": []
    },
    {
     "cell_type": "code",
     "collapsed": false,
     "input": [],
     "language": "python",
     "metadata": {},
     "outputs": []
    }
   ],
   "metadata": {}
  }
 ]
}