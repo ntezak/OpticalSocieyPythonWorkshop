{
 "metadata": {
  "name": "",
  "signature": "sha256:1dba6e250bd8e04ed2fc74f876a40d02e81f09328dfd7ab46612711b61e94455"
 },
 "nbformat": 3,
 "nbformat_minor": 0,
 "worksheets": [
  {
   "cells": [
    {
     "cell_type": "heading",
     "level": 1,
     "metadata": {},
     "source": [
      "Ctypes"
     ]
    },
    {
     "cell_type": "markdown",
     "metadata": {},
     "source": [
      "Here we will learn how to import a compiled library via ctypes, a built-in python module that exists specifically for this purpose."
     ]
    },
    {
     "cell_type": "code",
     "collapsed": false,
     "input": [
      "%%file mandelbrot.c\n",
      "\n",
      "#include <complex.h>\n",
      "#include <stdio.h> \n",
      "#include <stdint.h>\n",
      "\n",
      "int mandel(double x, double y, uint8_t max_iters){\n",
      "    double complex z = 0;\n",
      "    double complex c = x + I * y;\n",
      "    uint8_t i;\n",
      "    for(i=0; i<max_iters; i++){\n",
      "        z = z*z + c;\n",
      "        if (creal(z)*creal(z) + cimag(z)*cimag(z) >= 4){\n",
      "            return i;\n",
      "        }\n",
      "    }\n",
      "    return max_iters;\n",
      "}\n",
      "\n",
      "\n",
      "void create_fractal(double min_x, double max_x, double min_y, double max_y, uint8_t * image, int nx, int ny, uint8_t iters){\n",
      "    double px_szx = (max_x - min_x)/nx;\n",
      "    double px_szy = (max_y - min_y)/ny;\n",
      "    int jj, kk;\n",
      "    double x, y;\n",
      "    for(jj=0; jj<nx; jj++){\n",
      "        y = min_y + jj * px_szy;\n",
      "        for(kk=0; kk<ny; kk++){\n",
      "            x = min_x + kk * px_szx;\n",
      "            image[kk + jj*nx] = mandel(x, y, iters);\n",
      "        }\n",
      "    }\n",
      "}\n"
     ],
     "language": "python",
     "metadata": {},
     "outputs": []
    },
    {
     "cell_type": "code",
     "collapsed": false,
     "input": [
      "!rm mandelbrot mandelbrot.so\n",
      "!gcc -O3 -Wall -fPIC -shared mandelbrot.c -o mandelbrot.so\n",
      "!ls mandelbrot*"
     ],
     "language": "python",
     "metadata": {},
     "outputs": []
    },
    {
     "cell_type": "code",
     "collapsed": false,
     "input": [
      "import ctypes\n",
      "mandel = ctypes.cdll[\"mandelbrot.so\"]"
     ],
     "language": "python",
     "metadata": {},
     "outputs": []
    },
    {
     "cell_type": "code",
     "collapsed": false,
     "input": [
      "mandel.create_fractal.argtypes = [\n",
      "    ctypes.c_double,\n",
      "    ctypes.c_double,\n",
      "    ctypes.c_double,\n",
      "    ctypes.c_double,\n",
      "    ctypes.POINTER(ctypes.c_uint8),\n",
      "    ctypes.c_int,\n",
      "    ctypes.c_int,\n",
      "    ctypes.c_uint8]"
     ],
     "language": "python",
     "metadata": {},
     "outputs": []
    },
    {
     "cell_type": "code",
     "collapsed": false,
     "input": [
      "%matplotlib inline"
     ],
     "language": "python",
     "metadata": {},
     "outputs": []
    },
    {
     "cell_type": "code",
     "collapsed": false,
     "input": [
      "import numpy as np\n",
      "image = np.zeros((400, 400), dtype = np.uint8)"
     ],
     "language": "python",
     "metadata": {},
     "outputs": []
    },
    {
     "cell_type": "code",
     "collapsed": false,
     "input": [
      "import matplotlib.pyplot as plt"
     ],
     "language": "python",
     "metadata": {},
     "outputs": []
    },
    {
     "cell_type": "code",
     "collapsed": false,
     "input": [
      "img_ptr = image.ctypes.data_as(ctypes.POINTER(ctypes.c_uint8))\n",
      "%timeit mandel.create_fractal(-2.0, 1.0, -1.5, 1.5, img_ptr, 400, 400, 100) "
     ],
     "language": "python",
     "metadata": {},
     "outputs": []
    },
    {
     "cell_type": "code",
     "collapsed": false,
     "input": [
      "# %%time\n",
      "mandel.create_fractal(-2.0, 1.0, -1.5, 1.5, img_ptr, 400, 400, 20) \n",
      "plt.imshow(image,cmap=\"RdBu\")"
     ],
     "language": "python",
     "metadata": {},
     "outputs": []
    },
    {
     "cell_type": "heading",
     "level": 1,
     "metadata": {},
     "source": [
      "Thorlabs control"
     ]
    },
    {
     "cell_type": "markdown",
     "metadata": {},
     "source": [
      "To use this, you will need to install a number of additional dependencies:  \n",
      "- `libftdi` (or `libftdi1`) (available via `brew` and probably any linux package manager)\n",
      "- `pylibftdi` (can be found via `pip`)\n",
      "- you need to download the whole [`pyAPT`-repository](https://github.com/freespace/pyAPT) and extract it to a subdirectory named `./pyAPT-master`"
     ]
    },
    {
     "cell_type": "code",
     "collapsed": false,
     "input": [
      "import sys\n",
      "if \"./pyAPT-master/\" not in sys.path:\n",
      "    sys.path.append(\"./pyAPT-master/\")"
     ],
     "language": "python",
     "metadata": {},
     "outputs": []
    },
    {
     "cell_type": "code",
     "collapsed": false,
     "input": [
      "# -*- coding: utf-8 -*-\n",
      "\"\"\"\n",
      "Controller for a Thorlabs CR1-Z7 rotary stage using PyAPT\n",
      "\n",
      "Created on Wed Sep 10 16:38:50 2014\n",
      "\n",
      "@author: Lab\n",
      "\"\"\"\n",
      "\n",
      "from pyAPT.controller import Controller\n",
      "\n",
      "class CR1_Z7(Controller):\n",
      "    \"\"\"\n",
      "    A controller for a CR1_Z7 rotary stage.\n",
      "    \"\"\"\n",
      "    def __init__(self,*args, **kwargs):\n",
      "        super(CR1_Z7, self).__init__(*args, **kwargs)\n",
      "        \n",
      "        # in [mm / s] and [mm / s**2]\n",
      "        # this is from the manual\n",
      "        self.max_velocity = 6\n",
      "        # this, I think, is a conservative guess\n",
      "        self.max_acceleration = 0.3\n",
      "        \n",
      "        # Conversion of internal units to degrees.\n",
      "        # I found this value through trial and error\n",
      "        # with this, one unit on the position scale corresponds\n",
      "        # to one degree.\n",
      "        enccnt = 1660.\n",
      "   \n",
      "        T = 1 # time scale in seconds, seems irrelevant for steppers  \n",
      "    \n",
      "        # these equations are taken from the APT protocol manual\n",
      "        self.position_scale = enccnt\n",
      "        self.velocity_scale = enccnt * T\n",
      "        self.acceleration_scale = enccnt * T * T \n",
      "    \n",
      "        self.linear_range = (-3600,3600)\n",
      "    \n",
      "    def isHomed(self):\n",
      "        \"\"\" Returns a boolean indicating whether the stage is 'homed'\n",
      "        \"\"\"\n",
      "        # Returns\n",
      "        status = self.status()\n",
      "        return bool(status.homed)\n"
     ],
     "language": "python",
     "metadata": {},
     "outputs": []
    },
    {
     "cell_type": "code",
     "collapsed": false,
     "input": [
      "c = CR1_Z7()\n",
      "# rotate by 90 degrees\n",
      "c.move(90).position"
     ],
     "language": "python",
     "metadata": {},
     "outputs": []
    },
    {
     "cell_type": "code",
     "collapsed": false,
     "input": [
      "c.close()"
     ],
     "language": "python",
     "metadata": {},
     "outputs": []
    },
    {
     "cell_type": "code",
     "collapsed": false,
     "input": [],
     "language": "python",
     "metadata": {},
     "outputs": []
    }
   ],
   "metadata": {}
  }
 ]
}